{
 "cells": [
  {
   "cell_type": "code",
   "execution_count": 51,
   "id": "02f617ef-c415-4eca-9f1a-aac2672fb6c3",
   "metadata": {},
   "outputs": [],
   "source": [
    "# Usual imports\n",
    "import matplotlib.pyplot as plt               # for plotting\n",
    "import numpy as np                            # matrix handling\n"
   ]
  },
  {
   "cell_type": "code",
   "execution_count": 52,
   "id": "fa557131-3dae-4d2b-9bab-f1cdec4e0571",
   "metadata": {},
   "outputs": [],
   "source": [
    "def QHO_Eigenvls_true(intmin,intmax,omega):\n",
    "    return omega*(np.arange(intmin,intmax,1)+.5)"
   ]
  },
  {
   "cell_type": "code",
   "execution_count": 53,
   "id": "81c50146-1337-4659-af53-7443b7004537",
   "metadata": {},
   "outputs": [
    {
     "data": {
      "text/plain": [
       "array([1.5, 2.5, 3.5, 4.5, 5.5, 6.5, 7.5, 8.5, 9.5])"
      ]
     },
     "execution_count": 53,
     "metadata": {},
     "output_type": "execute_result"
    }
   ],
   "source": [
    "QHO_Eigenvls_true(1,10,1)"
   ]
  },
  {
   "cell_type": "code",
   "execution_count": 54,
   "id": "216ca167-28a4-4584-bf22-809ad3eaaa17",
   "metadata": {},
   "outputs": [],
   "source": [
    "feigenvls = np.genfromtxt('./eigenvls.csv')"
   ]
  },
  {
   "cell_type": "code",
   "execution_count": 55,
   "id": "632c8fb4-0c9d-4734-88ff-8c844d8f78f1",
   "metadata": {},
   "outputs": [],
   "source": [
    "ei = np.abs(feigenvls-2*np.arange(0,len(feigenvls))+2)/(2*np.arange(0,len(feigenvls))-1)\n"
   ]
  },
  {
   "cell_type": "code",
   "execution_count": 56,
   "id": "4980c92f",
   "metadata": {},
   "outputs": [],
   "source": [
    "ei2 = np.genfromtxt('./eigenvalues.csv')"
   ]
  },
  {
   "cell_type": "code",
   "execution_count": 59,
   "id": "38241a34-d1b1-4ff1-a824-aa2a4912078b",
   "metadata": {},
   "outputs": [
    {
     "data": {
      "image/png": "[encoded data removed]",
      "text/plain": [
       "<Figure size 432x288 with 1 Axes>"
      ]
     },
     "metadata": {
      "needs_background": "light"
     },
     "output_type": "display_data"
    }
   ],
   "source": [
    "plt.plot(np.arange(1,100),QHO_Eigenvls_true(1,100,1))\n",
    "plt.plot(np.arange(0,len(ei2)),np.sort(ei2)/1,'o')\n",
    "plt.xscale('log')\n",
    "plt.yscale('log')"
   ]
  },
  {
   "cell_type": "code",
   "execution_count": 45,
   "id": "9bc56ec4-c32f-4bc7-bcb4-42e874d27382",
   "metadata": {},
   "outputs": [
    {
     "data": {
      "text/plain": [
       "array([4.71150046e+02, 4.76849187e+02, 4.82567942e+02, 4.88305962e+02,\n",
       "       5.11443660e+02, 5.23118932e+02, 5.28981928e+02, 5.34861353e+02,\n",
       "       5.40756850e+02, 5.64492330e+02, 5.76447090e+02, 5.70462762e+02,\n",
       "       1.18615775e+03, 1.18069705e+03, 1.17521298e+03, 1.16970588e+03,\n",
       "       1.16417607e+03, 1.19159474e+03, 1.15862390e+03, 1.20776016e+03,\n",
       "       1.15304971e+03, 1.14183661e+03, 1.13619840e+03, 1.13053953e+03,\n",
       "       1.12486035e+03, 1.11916120e+03, 1.11344245e+03, 1.20239628e+03,\n",
       "       1.10770443e+03, 1.10194750e+03, 1.09037829e+03, 1.08456673e+03,\n",
       "       1.07873767e+03, 1.07289146e+03, 1.06702847e+03, 1.06114904e+03,\n",
       "       1.05525354e+03, 1.04934233e+03, 1.03151806e+03, 1.03747423e+03,\n",
       "       1.02554763e+03, 1.01956330e+03, 1.01356544e+03, 1.00755442e+03,\n",
       "       1.00153060e+03, 1.21309903e+03, 1.21841254e+03, 4.65470866e+02,\n",
       "       4.59811995e+02, 4.94062896e+02, 5.05632098e+02, 5.82444949e+02,\n",
       "       5.58536160e+02, 5.46668057e+02, 5.17272723e+02, 5.88455973e+02,\n",
       "       5.94479795e+02, 1.22370038e+03, 1.22896222e+03, 9.95494346e+02,\n",
       "       9.83386029e+02, 9.77314702e+02, 9.71232426e+02, 4.54173779e+02,\n",
       "       4.31834322e+02, 4.37386491e+02, 4.26304516e+02, 4.20797411e+02,\n",
       "       4.15313342e+02, 6.00516046e+02, 6.12624362e+02, 6.18695688e+02,\n",
       "       6.24777965e+02, 6.30870822e+02, 4.42960684e+02, 1.23419773e+03,\n",
       "       9.65139570e+02, 4.09852646e+02, 1.23940662e+03, 1.25996941e+03,\n",
       "       1.24974319e+03, 1.25487025e+03, 9.59036507e+02, 9.52923608e+02,\n",
       "       4.04415656e+02, 3.88250229e+02, 3.93614118e+02, 6.36973885e+02,\n",
       "       6.43086783e+02, 6.86121008e+02, 6.79949752e+02, 6.49209142e+02,\n",
       "       6.73785706e+02, 9.46801248e+02, 6.67629246e+02, 1.26504035e+03,\n",
       "       1.27008277e+03, 3.82911364e+02, 6.92299097e+02, 9.09889383e+02,\n",
       "       9.16060639e+02, 9.22224686e+02, 9.03711293e+02, 9.28381145e+02,\n",
       "       1.27509636e+03, 1.28008082e+03, 3.67048175e+02, 3.72310015e+02,\n",
       "       3.77597852e+02, 3.61812656e+02, 6.55340589e+02, 9.40669802e+02,\n",
       "       8.97526748e+02, 7.04674265e+02, 6.98483642e+02, 8.91336126e+02,\n",
       "       8.85139803e+02, 8.66520420e+02, 8.72731572e+02, 7.29489971e+02,\n",
       "       7.35705307e+02, 7.23278821e+02, 7.41924447e+02, 7.48147012e+02,\n",
       "       3.36040986e+02, 8.60305086e+02, 1.31887136e+03, 1.28503583e+03,\n",
       "       3.56603776e+02, 3.41140144e+02, 8.54085946e+02, 7.91768925e+02,\n",
       "       7.98005195e+02, 7.85533034e+02, 7.10870589e+02, 7.54372621e+02,\n",
       "       1.31413081e+03, 1.30935874e+03, 1.29972120e+03, 1.30455544e+03,\n",
       "       1.29485632e+03, 3.46267204e+02, 3.30970041e+02, 3.25927619e+02,\n",
       "       3.20914029e+02, 3.15929574e+02, 8.04241467e+02, 8.47863380e+02,\n",
       "       7.60600896e+02, 7.79297905e+02, 8.10477358e+02, 1.32358010e+03,\n",
       "       1.32825675e+03, 1.36007075e+03, 1.35562668e+03, 1.35114856e+03,\n",
       "       1.34663665e+03, 1.34209124e+03, 1.33751260e+03, 8.41637769e+02,\n",
       "       8.16712486e+02, 3.10974563e+02, 3.01154072e+02, 2.77139029e+02,\n",
       "       2.81879581e+02, 2.96289192e+02, 2.86651653e+02, 2.91454953e+02,\n",
       "       2.72430289e+02, 1.36448050e+03, 1.59598569e+03, 1.59591268e+03,\n",
       "       2.67753646e+02, 2.58497795e+02, 2.53919153e+02, 2.49373740e+02,\n",
       "       2.44861833e+02, 2.40383707e+02, 2.35939638e+02, 2.31529894e+02,\n",
       "       1.36885565e+03, 1.38177085e+03, 1.37750109e+03, 1.38600496e+03,\n",
       "       1.39020317e+03, 1.39436520e+03, 1.39849081e+03, 1.40257975e+03,\n",
       "       1.59579086e+03, 1.59562032e+03, 1.59540105e+03, 1.59513308e+03,\n",
       "       1.59481644e+03, 1.58978005e+03, 1.59053361e+03, 1.58897813e+03,\n",
       "       1.59445112e+03, 1.59123878e+03, 1.59189550e+03, 1.59250373e+03,\n",
       "       1.59306344e+03, 1.59357461e+03, 2.27154746e+02, 1.58315408e+03,\n",
       "       1.58424500e+03, 1.58628274e+03, 1.58528791e+03, 1.58722941e+03,\n",
       "       2.10005429e+02, 2.05807228e+02, 2.14239541e+02, 2.01645193e+02,\n",
       "       1.97519579e+02, 1.93430638e+02, 1.73544692e+02, 1.41856383e+03,\n",
       "       1.42246570e+03, 1.41462405e+03, 1.42632944e+03, 1.58201520e+03,\n",
       "       1.58082844e+03, 1.69680955e+02, 1.77446568e+02, 1.81386341e+02,\n",
       "       1.65855591e+02, 1.62068833e+02, 1.58320914e+02, 1.43722164e+02,\n",
       "       1.40171823e+02, 1.33191879e+02, 1.36661656e+02, 1.43015480e+03,\n",
       "       1.45583857e+03, 1.45934874e+03, 1.45228823e+03, 1.46281851e+03,\n",
       "       1.44869793e+03, 1.46624769e+03, 1.46963605e+03, 1.57959388e+03,\n",
       "       1.57560410e+03, 1.57417909e+03, 1.57698163e+03, 1.29762704e+02,\n",
       "       1.47312466e+02, 1.47628952e+03, 1.57270667e+03, 2.18509307e+02,\n",
       "       1.26374339e+02, 1.43394156e+03, 1.48277729e+03, 1.59403717e+03,\n",
       "       1.57118693e+03, 1.56961998e+03, 2.44467924e-02, 9.76481574e-02,\n",
       "       2.19496773e-01, 3.90058608e-01, 6.09331551e-01, 1.47955422e+03,\n",
       "       1.48909779e+03, 1.48595855e+03, 1.56800590e+03, 1.49219482e+03,\n",
       "       1.56634480e+03, 1.16456172e+02, 1.19720870e+02, 1.13233098e+02,\n",
       "       1.10051842e+02, 8.77296369e-01, 1.19395171e+00, 5.47677333e+00,\n",
       "       4.77160673e+00, 4.11489336e+00, 3.50665523e+00, 1.55926080e+00,\n",
       "       2.94693896e+00, 2.43578861e+00, 1.49524945e+03, 1.06912603e+02,\n",
       "       6.23034282e+00, 1.51267670e+03, 1.50988026e+03, 1.51542949e+03,\n",
       "       1.51813846e+03, 1.50704035e+03, 1.55923219e+03, 1.55733754e+03,\n",
       "       1.56108036e+03, 1.55539651e+03, 1.03815572e+02, 1.00760934e+02,\n",
       "       7.03226371e+00, 1.28563115e+01, 1.39951839e+01, 1.17653876e+01,\n",
       "       9.72765706e+00, 1.07224849e+01, 8.78096925e+00, 8.35409495e+02,\n",
       "       1.52080345e+03, 1.53346311e+03, 1.53586090e+03, 1.55340923e+03,\n",
       "       8.05809063e+01, 8.33336931e+01, 8.61301275e+01, 8.89700398e+01,\n",
       "       2.18313078e+01, 2.04062894e+01, 2.33037298e+01, 1.53102041e+03,\n",
       "       1.53821362e+03, 7.78719323e+01, 9.77488804e+01, 7.52069402e+01,\n",
       "       6.25472809e+01, 6.49899869e+01, 6.01494922e+01, 5.77967665e+01,\n",
       "       1.51819377e+01, 2.48234609e+01, 1.64165059e+01, 2.63904140e+01,\n",
       "       1.90287602e+01, 2.80044953e+01, 4.26011654e+01, 4.46345833e+01,\n",
       "       4.06138812e+01, 3.67782005e+01, 3.49300351e+01, 2.96655973e+01,\n",
       "       3.86728539e+01, 3.31284734e+01, 1.43768948e+03, 1.50415714e+03,\n",
       "       1.56288192e+03, 1.55137581e+03, 1.54052114e+03, 1.49826151e+03,\n",
       "       1.52342430e+03, 1.52853294e+03, 6.74774582e+01, 5.54892487e+01,\n",
       "       4.67140141e+01, 8.29178936e+02, 7.66831456e+02, 1.40663177e+03,\n",
       "       1.44506789e+03, 1.54929638e+03, 1.54500000e+03, 1.54278331e+03,\n",
       "       1.89378620e+02, 1.50942506e+02, 9.18532540e+01, 7.88248948e+00,\n",
       "       7.25860904e+01, 1.97321503e+00, 1.76988055e+01, 5.10103899e+01,\n",
       "       5.32270766e+01, 1.58812790e+03, 1.57831158e+03, 1.56463677e+03,\n",
       "       1.54717107e+03, 3.13736239e+01, 4.88393270e+01, 7.73063919e+02,\n",
       "       8.22946473e+02, 1.41064662e+03, 1.85363772e+02, 1.52600085e+03,\n",
       "       7.00095428e+01, 1.44139833e+03, 9.47795940e+01, 1.54612063e+02,\n",
       "       1.50123080e+03, 2.22814463e+02, 8.78938159e+02, 7.17072233e+02,\n",
       "       1.37319593e+03, 1.33290100e+03, 2.63109387e+02, 9.34529643e+02,\n",
       "       6.61480749e+02, 1.47298340e+03, 1.23026993e+02, 1.28996110e+03,\n",
       "       9.89446033e+02, 1.24458854e+03, 1.04341578e+03, 1.09617200e+03,\n",
       "       1.14745383e+03, 3.06049295e+02, 6.06564358e+02, 3.51421853e+02,\n",
       "       5.52594615e+02, 4.99838392e+02, 4.48556561e+02, 1.19700769e+03,\n",
       "       3.99002703e+02])"
      ]
     },
     "execution_count": 45,
     "metadata": {},
     "output_type": "execute_result"
    }
   ],
   "source": [
    "ei2/len(ei2)"
   ]
  },
  {
   "cell_type": "code",
   "execution_count": null,
   "id": "59b94ded",
   "metadata": {},
   "outputs": [],
   "source": []
  }
 ],
 "metadata": {
  "kernelspec": {
   "display_name": "Python 3",
   "language": "python",
   "name": "python3"
  },
  "language_info": {
   "codemirror_mode": {
    "name": "ipython",
    "version": 3
   },
   "file_extension": ".py",
   "mimetype": "text/x-python",
   "name": "python",
   "nbconvert_exporter": "python",
   "pygments_lexer": "ipython3",
   "version": "3.8.8"
  }
 },
 "nbformat": 4,
 "nbformat_minor": 5
}
