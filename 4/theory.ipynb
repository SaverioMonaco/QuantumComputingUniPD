{
 "cells": [
  {
   "cell_type": "markdown",
   "id": "a0b8848a",
   "metadata": {},
   "source": [
    "# Quantum information and computing\n",
    "## Exercise 4: Time Independent Schr&ouml;dinger equation\n",
    "### Evolve numerically a system given the Hamiltonian:\n",
    "\n",
    "$$\\hat{H}=\\hat{p}^2+\\omega^2\\hat{x}^2$$\n",
    "\n",
    "1. $\\hat{p}\\to -i\\hbar\\frac{\\partial}{\\partial x}, \\quad \\hat{x}\\to x$\n",
    "\n",
    "2. From $\\hat{H}\\psi = E\\psi$ you get: $$\\left(-\\frac{\\hbar^2}{2}\\frac{\\partial^2}{\\partial x^2} + \\frac{1}{2}\\omega^2 x^2\\right)\\psi(x) = E_n \\psi(x)$$\n",
    "\n",
    "$\\psi(x)\\equiv\\psi_x$\n",
    "\n",
    "3. The second derivative must be discretized applying finite difference method:\n",
    "$$\\begin{cases}\n",
    "\\psi_{k+1}=\\psi_{k}+\\psi^\\prime_{k}dx+\\frac{1}{2}\\psi^{\\prime\\prime}_{k}dx^2+\\frac{1}{6}\\psi^{\\prime\\prime\\prime}_k+ O(dx^4)\\\\\n",
    "\\psi_{k-1}=\\psi_{k}-\\psi^\\prime_{k}dx+\\frac{1}{2}\\psi^{\\prime\\prime}_{k}dx^2-\\frac{1}{6}\\psi^{\\prime\\prime\\prime}_k+ O(dx^4)\n",
    "\\end{cases}$$\n",
    "$$\\psi_k^{\\prime\\prime}=\\frac{\\psi_{k+1}-2\\psi_{k}+\\psi_{k-1}}{dx^2}$$\n",
    "So we get:\n",
    "$$-\\frac{\\hbar^2}{2}\\left[\\frac{\\psi_{k+1}-2\\psi_k + \\psi_{k-1}}{dx^2}\\right] + \\frac{1}{2}\\omega^2 x_k\\psi_k = E \\psi_k$$\n",
    "\n",
    "4. Considering $H_{ij} =\\,<x_i|H|x_j>$ the solution of the equation is equivalent to consider the following matrix in a eigenvalue problem:\n",
    "\n",
    "$$H = \\frac{\\hbar^2}{2}\\left(\\begin{matrix}\n",
    "\\frac{2}{dx^2} + \\frac{1}{2}\\omega^2x_1^2 & \\frac{1}{dx^2} & 0 & \\dotsm & 0 \\\\\n",
    "&&&&\\\\\n",
    "\\frac{1}{dx^2} & \\frac{2}{dx^2} + \\frac{1}{2}\\omega^2x_2^2 & \\frac{1}{dx^2} & \\dotsm & 0 \\\\\n",
    "&&&&\\\\\n",
    "0 & \\frac{1}{dx^2} &  \\frac{2}{dx^2} + \\frac{1}{2}\\omega^2x_3^2 & \\dotsm & 0 \\\\\n",
    "\\vdots & \\vdots & \\vdots &\\ddots  & \\vdots\\\\\n",
    "0 & 0 & 0 & \\dotsm  &  \\frac{2}{dx^2} + \\frac{1}{2}\\omega^2x_N^2\n",
    "\\end{matrix}\\right)$$\n",
    "\n",
    "\n",
    "5. To get the eigenvalues this matrix must be then diagonalized."
   ]
  },
  {
   "cell_type": "code",
   "execution_count": null,
   "id": "3f588343",
   "metadata": {},
   "outputs": [],
   "source": []
  }
 ],
 "metadata": {
  "kernelspec": {
   "display_name": "Python 3",
   "language": "python",
   "name": "python3"
  },
  "language_info": {
   "codemirror_mode": {
    "name": "ipython",
    "version": 3
   },
   "file_extension": ".py",
   "mimetype": "text/x-python",
   "name": "python",
   "nbconvert_exporter": "python",
   "pygments_lexer": "ipython3",
   "version": "3.8.8"
  }
 },
 "nbformat": 4,
 "nbformat_minor": 5
}
