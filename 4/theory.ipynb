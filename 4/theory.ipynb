{
 "cells": [
  {
   "cell_type": "markdown",
   "id": "a0b8848a",
   "metadata": {},
   "source": [
    "# Quantum information and computing\n",
    "## Exercise 4: Time Independent Schr&ouml;dinger equation\n",
    "### Evolve numerically a system given the Hamiltonian:\n",
    "\n",
    "$$\\hat{H}=\\hat{p}^2+\\omega^2\\hat{x}^2$$\n",
    "\n",
    "1. $\\hat{p}\\to -i\\hbar\\frac{\\partial}{\\partial x}, \\quad \\hat{x}\\to x$\n",
    "\n",
    "2. From $\\hat{H}\\psi = E\\psi$ you get: $$\\left(-\\frac{\\hbar^2}{2}\\frac{\\partial^2}{\\partial x^2} + \\frac{1}{2}\\omega^2 x^2\\right)\\psi(x) = E_n \\psi(x)$$\n",
    "\n",
    "$\\psi(x)\\equiv\\psi_x$\n",
    "\n",
    "3. The second derivative must be discretized applying finite difference method:\n",
    "$$\\begin{cases}\n",
    "\\psi_{k+1}=\\psi_{k}+\\psi^\\prime_{k}dx+\\frac{1}{2}\\psi^{\\prime\\prime}_{k}dx^2+\\frac{1}{6}\\psi^{\\prime\\prime\\prime}_k+ O(dx^4)\\\\\n",
    "\\psi_{k-1}=\\psi_{k}-\\psi^\\prime_{k}dx+\\frac{1}{2}\\psi^{\\prime\\prime}_{k}dx^2-\\frac{1}{6}\\psi^{\\prime\\prime\\prime}_k+ O(dx^4)\n",
    "\\end{cases}$$\n",
    "$$\\psi_k^{\\prime\\prime}=\\frac{\\psi_{k+1}-2\\psi_{k}+\\psi_{k-1}}{dx^2}$$\n",
    "So we get:\n",
    "$$-\\frac{\\hbar^2}{2}\\left[\\frac{\\psi_{k+1}-2\\psi_k + \\psi_{k-1}}{dx^2}\\right] + \\frac{1}{2}\\omega^2 x_k\\psi_k = E \\psi_k$$\n",
    "\n",
    "4. Considering $H_{ij} =\\,<x_i|H|x_j>$ the solution of the equation is equivalent to consider the following matrix in a eigenvalue problem:\n",
    "\n",
    "$$H = \\frac{\\hbar^2}{2}\\left(\\begin{matrix}\n",
    "\\frac{2}{dx^2} + \\frac{1}{2}\\omega^2x_1^2 & \\frac{1}{dx^2} & 0 & \\dotsm & 0 \\\\\n",
    "&&&&\\\\\n",
    "\\frac{1}{dx^2} & \\frac{2}{dx^2} + \\frac{1}{2}\\omega^2x_2^2 & \\frac{1}{dx^2} & \\dotsm & 0 \\\\\n",
    "&&&&\\\\\n",
    "0 & \\frac{1}{dx^2} &  \\frac{2}{dx^2} + \\frac{1}{2}\\omega^2x_3^2 & \\dotsm & 0 \\\\\n",
    "\\vdots & \\vdots & \\vdots &\\ddots  & \\vdots\\\\\n",
    "0 & 0 & 0 & \\dotsm  &  \\frac{2}{dx^2} + \\frac{1}{2}\\omega^2x_N^2\n",
    "\\end{matrix}\\right)$$\n",
    "\n",
    "\n",
    "5. To get the eigenvalues this matrix must be then diagonalized."
   ]
  },
  {
   "cell_type": "code",
   "execution_count": 1,
   "id": "3f588343",
   "metadata": {},
   "outputs": [],
   "source": [
    "# Usual imports\n",
    "import matplotlib.pyplot as plt               # for plotting\n",
    "import numpy as np                            # matrix handling\n"
   ]
  },
  {
   "cell_type": "code",
   "execution_count": 2,
   "id": "7f7df55d",
   "metadata": {},
   "outputs": [],
   "source": [
    "def potential(a,x):\n",
    "    return a*x*x\n"
   ]
  },
  {
   "cell_type": "code",
   "execution_count": 5,
   "id": "b9928862",
   "metadata": {},
   "outputs": [],
   "source": [
    "x = np.arange(-2,2,0.01)\n"
   ]
  },
  {
   "cell_type": "code",
   "execution_count": 84,
   "id": "4d72766d",
   "metadata": {},
   "outputs": [
    {
     "data": {
      "image/png": "[encoded data removed]",
      "text/plain": [
       "<Figure size 480x240 with 1 Axes>"
      ]
     },
     "metadata": {
      "needs_background": "light"
     },
     "output_type": "display_data"
    }
   ],
   "source": [
    "from matplotlib.pyplot import figure\n",
    "figure(figsize=(6, 3), dpi=80)\n",
    "\n",
    "plt.plot(x,potential(1,x),color='crimson',lw=3)\n",
    "plt.axis('off')\n",
    "plt.ylim(-0.3,2)\n",
    "plt.text(.2,1.8,'V(x)',fontsize=14)\n",
    "plt.text(1.7,.2,'x', fontsize=14)\n",
    "\n",
    "plt.arrow(0,-0.5,0,2.3,width = 0.005,head_width=.1,color='black')\n",
    "plt.arrow(-.8,0,2.5,0,width = 0.005,head_width=.1,color='black')\n",
    "\n",
    "plt.savefig('./theory.svg', format='svg')"
   ]
  },
  {
   "cell_type": "markdown",
   "id": "b99d6656-8d6b-4d26-9a31-44fee397aa82",
   "metadata": {},
   "source": [
    "```fortran\n",
    "  function qho_H_init(L,N,omega) result(H)\n",
    "    real                                 :: L,omega,dx\n",
    "    integer                              :: N, ii\n",
    "    real*16, dimension(:,:), allocatable :: elem_real\n",
    "    type(cmatrix)                        :: H\n",
    "    dx = L/N\n",
    "    \n",
    "    allocate(elem_real(N+1,N+1))\n",
    "    elem_real = 0 * elem_real ! Initialize everything to 0\n",
    "\n",
    "    do ii=1, N+1, 1 ! ! diagonal elements\n",
    "      elem_real(ii,ii) = ( 2 /(dx**2) ) + (omega**2)*((ii-1)*dx - L/2)**2\n",
    "    end do\n",
    "\n",
    "    do ii=2, N+1, 1 ! tridiagonal elements\n",
    "      elem_real(ii,ii-1) = - 1/(dx**2)\n",
    "      elem_real(ii-1,ii) = - 1/(dx**2)\n",
    "    end do\n",
    "\n",
    "    elem_real = 0.5* elem_real ! Everything must be divided by 2\n",
    "\n",
    "    H = cmatrix_init(cmplx(X=elem_real,KIND=8))\n",
    "  end function qho_H_init\n",
    "```"
   ]
  },
  {
   "cell_type": "markdown",
   "id": "84a33d88-c22b-43f3-9038-a649e47b9972",
   "metadata": {},
   "source": [
    "```fortran\n",
    "call ZGEEV(! To compute both eigenvalues and -vectors\n",
    "           'V', 'V', &\n",
    "           ! The order of the matrix A\n",
    "           N, &   \n",
    "           ! The matrix \n",
    "           A, & \n",
    "           ! The leading dimension of A.\n",
    "           N, &   \n",
    "           ! Where to store eigenvalues and eigenvectors\n",
    "           eigenv, eigenh, & \n",
    "           ! Other parameters\n",
    "           N, VR, N, WORK,LWORK,RWORK, &       \n",
    "           ! Output parameter, if INFO == 0 -> successful exit\n",
    "           INFO     )\n",
    "```"
   ]
  },
  {
   "cell_type": "code",
   "execution_count": null,
   "id": "033babb0-34a6-44a9-8455-e43d4fed1c6d",
   "metadata": {},
   "outputs": [],
   "source": []
  }
 ],
 "metadata": {
  "kernelspec": {
   "display_name": "Python 3",
   "language": "python",
   "name": "python3"
  },
  "language_info": {
   "codemirror_mode": {
    "name": "ipython",
    "version": 3
   },
   "file_extension": ".py",
   "mimetype": "text/x-python",
   "name": "python",
   "nbconvert_exporter": "python",
   "pygments_lexer": "ipython3",
   "version": "3.8.8"
  }
 },
 "nbformat": 4,
 "nbformat_minor": 5
}
