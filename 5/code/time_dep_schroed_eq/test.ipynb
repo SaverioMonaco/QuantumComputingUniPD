{
 "cells": [
  {
   "cell_type": "code",
   "execution_count": 104,
   "id": "94405825",
   "metadata": {},
   "outputs": [],
   "source": [
    "# Usual imports\n",
    "import matplotlib.pyplot as plt               # for plotting\n",
    "import numpy as np                            # matrix handling\n",
    "import numpy.polynomial.hermite as Herm\n",
    "import math\n"
   ]
  },
  {
   "cell_type": "code",
   "execution_count": 105,
   "id": "3d93fa60",
   "metadata": {},
   "outputs": [],
   "source": [
    "Lx     = 50\n",
    "Lp     = 50\n",
    "N      = 500\n",
    "T      = 1\n",
    "Nt     = 100\n",
    "lvl    = 10\n",
    "folder = 'test'\n"
   ]
  },
  {
   "cell_type": "code",
   "execution_count": 106,
   "id": "5cf14f0c",
   "metadata": {},
   "outputs": [
    {
     "name": "stdout",
     "output_type": "stream",
     "text": [
      " --------------------------------------------\n",
      " +   TIME DEPENDENT SCHROEDINGER EQUATION   +\n",
      " +------------------------------------------+\n",
      " + Lx:  Lenght of x space                   +\n",
      " + Lp:  Lenght of p space                   +\n",
      " + N:   Number of points                    +\n",
      " + T:   Total time                          +\n",
      " + Nt:  Number of time-points               +\n",
      " + lev: Energy level to evolve              +\n",
      " +------------------------------------------+\n",
      " + Type: Lx, Lp, N, T, Nt, lev and folder:  +\n",
      " +  + Data will be saved in: ./test\n",
      " + Lenght of x space     (Lx):    50.0000000    \n",
      " + Lenght of p space     (Lp):    50.0000000    \n",
      " + Number of points       (N):          500\n",
      " + Total time             (T):    1.00000000    \n",
      " + Number of time-points (Nt):          100\n",
      " + Energy level         (lev):           10\n",
      " +------------------------------------------+\n",
      " +\n",
      " + Computing eigenstate for t = 0...\n",
      " +  ∟ Computing the Hamiltonian             [DONE]\n",
      " +  ∟ Computing Eigenvalues & Eigenvectors  [DONE]\n",
      " +\n",
      " + Evolving:\n",
      " +           10 %\n",
      " +           20 %\n",
      " +           30 %\n",
      " +           40 %\n",
      " +           50 %\n",
      " +           60 %\n",
      " +           70 %\n",
      " +           80 %\n",
      " +           90 %\n",
      " +          100 %\n",
      " + [DONE]\n",
      " +\n",
      " +------------------------------------------+\n",
      " + Writing on files: ./test/*_wavefunc.csv\n",
      " + [DONE]\n",
      " +------------------------------------------+\n",
      " +------------------------------------------+\n"
     ]
    }
   ],
   "source": [
    "! gfortran shiftingV_harmonic_oscillator.f90 -o sh_qho -llapack -Wall -lfftw3 -frecursive\n",
    "! echo \"$Lx $Lp $N $T $Nt $lvl $folder\" | ./sh_qho\n"
   ]
  },
  {
   "cell_type": "code",
   "execution_count": 107,
   "id": "b05db419",
   "metadata": {},
   "outputs": [],
   "source": [
    "psi_real = np.genfromtxt('./'+str(folder)+'/REAL_wavefunc.csv', delimiter='')\n",
    "psi_imag = np.genfromtxt('./'+str(folder)+'/IMAG_wavefunc.csv', delimiter='')"
   ]
  },
  {
   "cell_type": "code",
   "execution_count": 108,
   "id": "b12504e9",
   "metadata": {},
   "outputs": [],
   "source": [
    "t = 0"
   ]
  },
  {
   "cell_type": "code",
   "execution_count": 109,
   "id": "9543fa26",
   "metadata": {
    "scrolled": true
   },
   "outputs": [
    {
     "data": {
      "image/png": "[encoded data removed]",
      "text/plain": [
       "<Figure size 432x288 with 1 Axes>"
      ]
     },
     "metadata": {
      "needs_background": "light"
     },
     "output_type": "display_data"
    }
   ],
   "source": [
    "plt.plot(psi_real[t,:],label='Real')\n",
    "plt.plot(psi_imag[t,:],label='Imaginary')\n",
    "plt.legend()\n",
    "\n",
    "t = t + 1"
   ]
  },
  {
   "cell_type": "code",
   "execution_count": null,
   "id": "a5c06a4a",
   "metadata": {},
   "outputs": [],
   "source": []
  }
 ],
 "metadata": {
  "kernelspec": {
   "display_name": "Python 3",
   "language": "python",
   "name": "python3"
  },
  "language_info": {
   "codemirror_mode": {
    "name": "ipython",
    "version": 3
   },
   "file_extension": ".py",
   "mimetype": "text/x-python",
   "name": "python",
   "nbconvert_exporter": "python",
   "pygments_lexer": "ipython3",
   "version": "3.8.8"
  }
 },
 "nbformat": 4,
 "nbformat_minor": 5
}
