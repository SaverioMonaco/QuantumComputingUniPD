{
 "cells": [
  {
   "cell_type": "code",
   "execution_count": 13,
   "id": "fd5d4599",
   "metadata": {},
   "outputs": [],
   "source": [
    "# Usual imports\n",
    "import matplotlib.pyplot as plt               # for plotting\n",
    "import numpy as np                            # matrix handling\n",
    "import numpy.polynomial.hermite as Herm\n",
    "import math\n"
   ]
  },
  {
   "cell_type": "code",
   "execution_count": 14,
   "id": "a3b66f89",
   "metadata": {},
   "outputs": [],
   "source": [
    "# Read in the file\n",
    "with open(\"./prova/DEBUG_PSI0.csv\", 'r') as file :\n",
    "    filedata = file.read()\n",
    "    filedata = filedata.replace('(', '')\n",
    "    filedata = filedata.replace(')', '')\n",
    "\n",
    "# Write the file out again\n",
    "with open(\"./prova/DEBUG_PSI0.csv\", 'w') as file:\n",
    "    file.write(filedata)\n"
   ]
  },
  {
   "cell_type": "code",
   "execution_count": 15,
   "id": "1e51ec15",
   "metadata": {},
   "outputs": [],
   "source": [
    "signal_out = np.genfromtxt('./prova/DEBUG_PSI0.csv', delimiter=',')\n"
   ]
  },
  {
   "cell_type": "code",
   "execution_count": 19,
   "id": "601770b1",
   "metadata": {},
   "outputs": [
    {
     "data": {
      "text/plain": [
       "[<matplotlib.lines.Line2D at 0x7fd0c7ae1b50>]"
      ]
     },
     "execution_count": 19,
     "metadata": {},
     "output_type": "execute_result"
    },
    {
     "data": {
      "image/png": "[encoded data removed]",
      "text/plain": [
       "<Figure size 432x288 with 1 Axes>"
      ]
     },
     "metadata": {
      "needs_background": "light"
     },
     "output_type": "display_data"
    }
   ],
   "source": [
    "plt.plot(signal_out[:,0])"
   ]
  },
  {
   "cell_type": "code",
   "execution_count": null,
   "id": "64ffc036",
   "metadata": {},
   "outputs": [],
   "source": []
  }
 ],
 "metadata": {
  "kernelspec": {
   "display_name": "Python 3",
   "language": "python",
   "name": "python3"
  },
  "language_info": {
   "codemirror_mode": {
    "name": "ipython",
    "version": 3
   },
   "file_extension": ".py",
   "mimetype": "text/x-python",
   "name": "python",
   "nbconvert_exporter": "python",
   "pygments_lexer": "ipython3",
   "version": "3.8.8"
  }
 },
 "nbformat": 4,
 "nbformat_minor": 5
}
