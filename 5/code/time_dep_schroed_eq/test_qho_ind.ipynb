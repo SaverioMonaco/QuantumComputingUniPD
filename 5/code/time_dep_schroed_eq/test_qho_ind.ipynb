{
 "cells": [
  {
   "cell_type": "code",
   "execution_count": 58,
   "id": "a48d294a",
   "metadata": {},
   "outputs": [],
   "source": [
    "# Usual imports\n",
    "import matplotlib.pyplot as plt               # for plotting\n",
    "import numpy as np                            # matrix handling\n",
    "import numpy.polynomial.hermite as Herm\n",
    "import math\n"
   ]
  },
  {
   "cell_type": "code",
   "execution_count": 59,
   "id": "ed3ec43d",
   "metadata": {},
   "outputs": [],
   "source": [
    "lvl = 1"
   ]
  },
  {
   "cell_type": "code",
   "execution_count": 60,
   "id": "9ac5d356",
   "metadata": {},
   "outputs": [
    {
     "name": "stdout",
     "output_type": "stream",
     "text": [
      " --------------------------------------------\n",
      " +   TIME DEPENDENT SCHROEDINGER EQUATION   +\n",
      " +------------------------------------------+\n",
      " + Lx:  Lenght of x space                   +\n",
      " + Lp:  Lenght of p space                   +\n",
      " + N:   Number of points                    +\n",
      " + T:   Total time                          +\n",
      " + Nt:  Number of time-points               +\n",
      " + lev: Energy level to evolve              +\n",
      " +------------------------------------------+\n",
      " + Type: Lx, Lp, N, T, Nt, lev and folder:  +\n",
      " +  + Data will be saved in: ./prova\n",
      " + Lenght of x space     (Lx):    50.0000000    \n",
      " + Lenght of p space     (Lp):    50.0000000    \n",
      " + Number of points       (N):          500\n",
      " + Total time             (T):    1.00000000    \n",
      " + Number of time-points (Nt):          100\n",
      " + Energy level         (lev):            1\n",
      " +------------------------------------------+\n",
      " +\n",
      " + Computing eigenstate for t = 0...\n",
      " +  ∟ Computing the Hamiltonian             [DONE]\n",
      " +  ∟ Computing Eigenvalues & Eigenvectors  [DONE]\n",
      " +\n",
      " + Eigenvalues:\n",
      " +   0.49968682358601146     \n",
      " +    1.4984357825039873     \n",
      " +    2.4959297869557133     \n",
      " +    3.4921692966823730     \n",
      " +    4.4871503225432328     \n",
      " +    ...\n",
      " +\n",
      " + Writing initial state wavefunction at:\n",
      " +   ./prova/DEBUG_PSI0.csv\n",
      " + [DONE]\n",
      " +\n",
      " + Psi(x) lev:           1\n",
      " +    (2.32910423863301762E-007,1.35722948827440061E-009)\n",
      " +   (-2.24018851976734520E-011,7.62974680729518416E-013)\n",
      " +    (4.42157991238522844E-014,2.72578694609490692E-005)\n",
      " +    (6.92132357857939838E-007,8.04372609933094530E-014)\n",
      " +  (-9.53894810366203244E-006,-3.30825727075577704E-014)\n",
      " +   ...\n",
      " +\n",
      " + Evolving:\n",
      " +           10 %\n",
      " +           20 %\n",
      " +           30 %\n",
      " +           40 %\n",
      " +           50 %\n",
      " +           60 %\n",
      " +           70 %\n",
      " +           80 %\n",
      " +           90 %\n",
      " +          100 %\n",
      " + [DONE]\n",
      " +\n",
      " +------------------------------------------+\n",
      " + Writing on file: ./prova/wavefunc.csv\n",
      " + [DONE]\n",
      " +------------------------------------------+\n",
      " +------------------------------------------+\n"
     ]
    }
   ],
   "source": [
    "! gfortran shiftingV_harmonic_oscillator.f90 -o sh_qho -llapack -Wall -lfftw3 -frecursive\n",
    "! echo \"50 50 500 1 100 $lvl prova\" | ./sh_qho"
   ]
  },
  {
   "cell_type": "code",
   "execution_count": 61,
   "id": "756baa75",
   "metadata": {},
   "outputs": [],
   "source": [
    "# Read in the file\n",
    "with open(\"./prova/DEBUG_PSI0.csv\", 'r') as file :\n",
    "    filedata = file.read()\n",
    "    filedata = filedata.replace('(', '')\n",
    "    filedata = filedata.replace(')', '')\n",
    "\n",
    "# Write the file out again\n",
    "with open(\"./prova/DEBUG_PSI0.csv\", 'w') as file:\n",
    "    file.write(filedata)\n"
   ]
  },
  {
   "cell_type": "code",
   "execution_count": 62,
   "id": "d0c9e1f6",
   "metadata": {},
   "outputs": [],
   "source": [
    "psi = np.genfromtxt('./prova/DEBUG_PSI0.csv', delimiter=',')\n"
   ]
  },
  {
   "cell_type": "code",
   "execution_count": 67,
   "id": "27a52b85",
   "metadata": {},
   "outputs": [
    {
     "data": {
      "text/plain": [
       "[<matplotlib.lines.Line2D at 0x7fd0c7aa3280>]"
      ]
     },
     "execution_count": 67,
     "metadata": {},
     "output_type": "execute_result"
    },
    {
     "data": {
      "image/png": "[encoded data removed]",
      "text/plain": [
       "<Figure size 432x288 with 1 Axes>"
      ]
     },
     "metadata": {
      "needs_background": "light"
     },
     "output_type": "display_data"
    }
   ],
   "source": [
    "plt.plot(psi[:,0])"
   ]
  },
  {
   "cell_type": "code",
   "execution_count": null,
   "id": "c945916d",
   "metadata": {},
   "outputs": [],
   "source": []
  }
 ],
 "metadata": {
  "kernelspec": {
   "display_name": "Python 3",
   "language": "python",
   "name": "python3"
  },
  "language_info": {
   "codemirror_mode": {
    "name": "ipython",
    "version": 3
   },
   "file_extension": ".py",
   "mimetype": "text/x-python",
   "name": "python",
   "nbconvert_exporter": "python",
   "pygments_lexer": "ipython3",
   "version": "3.8.8"
  }
 },
 "nbformat": 4,
 "nbformat_minor": 5
}
