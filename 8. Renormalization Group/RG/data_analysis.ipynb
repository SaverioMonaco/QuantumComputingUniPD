{
 "cells": [
  {
   "cell_type": "code",
   "execution_count": 1,
   "id": "1225d6b7",
   "metadata": {},
   "outputs": [],
   "source": [
    "# Usual imports\n",
    "import matplotlib.pyplot as plt               # for plotting\n",
    "import numpy as np                            # matrix handling\n",
    "\n",
    "from matplotlib.animation import FuncAnimation\n",
    "from IPython import display\n",
    "import matplotlib.pyplot as plt\n",
    "from matplotlib import animation, rc\n",
    "\n",
    "import os"
   ]
  },
  {
   "cell_type": "code",
   "execution_count": 2,
   "id": "1bc6c6cd",
   "metadata": {},
   "outputs": [],
   "source": [
    "! gfortran rg.f90 -Wall -Wno-maybe-uninitialized -llapack -frecursive"
   ]
  },
  {
   "cell_type": "code",
   "execution_count": 21,
   "id": "01922f77",
   "metadata": {},
   "outputs": [],
   "source": [
    "lambdas = np.linspace(0,3,100)\n",
    "N = 4\n",
    "nit = 40\n",
    "folder = 'prova'"
   ]
  },
  {
   "cell_type": "code",
   "execution_count": 22,
   "id": "a0a8a5b8",
   "metadata": {},
   "outputs": [
    {
     "name": "stdout",
     "output_type": "stream",
     "text": [
      "Note: The following floating-point exceptions are signalling: IEEE_INVALID_FLAG IEEE_DIVIDE_BY_ZERO IEEE_UNDERFLOW_FLAG IEEE_DENORMAL\n",
      "Note: The following floating-point exceptions are signalling: IEEE_INVALID_FLAG IEEE_DIVIDE_BY_ZERO IEEE_UNDERFLOW_FLAG IEEE_DENORMAL\n",
      "Note: The following floating-point exceptions are signalling: IEEE_INVALID_FLAG IEEE_DIVIDE_BY_ZERO IEEE_UNDERFLOW_FLAG IEEE_DENORMAL\n",
      "Note: The following floating-point exceptions are signalling: IEEE_INVALID_FLAG IEEE_DIVIDE_BY_ZERO IEEE_UNDERFLOW_FLAG IEEE_DENORMAL\n",
      "Note: The following floating-point exceptions are signalling: IEEE_INVALID_FLAG IEEE_DIVIDE_BY_ZERO IEEE_UNDERFLOW_FLAG IEEE_DENORMAL\n",
      "Note: The following floating-point exceptions are signalling: IEEE_INVALID_FLAG IEEE_DIVIDE_BY_ZERO IEEE_UNDERFLOW_FLAG IEEE_DENORMAL\n",
      "Note: The following floating-point exceptions are signalling: IEEE_INVALID_FLAG IEEE_DIVIDE_BY_ZERO IEEE_UNDERFLOW_FLAG IEEE_DENORMAL\n",
      "Note: The following floating-point exceptions are signalling: IEEE_INVALID_FLAG IEEE_DIVIDE_BY_ZERO IEEE_UNDERFLOW_FLAG IEEE_DENORMAL\n",
      "Note: The following floating-point exceptions are signalling: IEEE_INVALID_FLAG IEEE_DIVIDE_BY_ZERO IEEE_UNDERFLOW_FLAG IEEE_DENORMAL\n",
      "Note: The following floating-point exceptions are signalling: IEEE_INVALID_FLAG IEEE_DIVIDE_BY_ZERO\n",
      "Note: The following floating-point exceptions are signalling: IEEE_INVALID_FLAG IEEE_DIVIDE_BY_ZERO\n",
      "Note: The following floating-point exceptions are signalling: IEEE_INVALID_FLAG IEEE_DIVIDE_BY_ZERO IEEE_UNDERFLOW_FLAG IEEE_DENORMAL\n",
      "Note: The following floating-point exceptions are signalling: IEEE_INVALID_FLAG IEEE_DIVIDE_BY_ZERO\n",
      "Note: The following floating-point exceptions are signalling: IEEE_INVALID_FLAG IEEE_DIVIDE_BY_ZERO IEEE_UNDERFLOW_FLAG IEEE_DENORMAL\n",
      "Note: The following floating-point exceptions are signalling: IEEE_INVALID_FLAG IEEE_DIVIDE_BY_ZERO IEEE_UNDERFLOW_FLAG IEEE_DENORMAL\n",
      "Note: The following floating-point exceptions are signalling: IEEE_INVALID_FLAG IEEE_DIVIDE_BY_ZERO IEEE_UNDERFLOW_FLAG IEEE_DENORMAL\n",
      "Note: The following floating-point exceptions are signalling: IEEE_INVALID_FLAG IEEE_DIVIDE_BY_ZERO IEEE_UNDERFLOW_FLAG IEEE_DENORMAL\n",
      "Note: The following floating-point exceptions are signalling: IEEE_INVALID_FLAG IEEE_DIVIDE_BY_ZERO IEEE_UNDERFLOW_FLAG IEEE_DENORMAL\n",
      "Note: The following floating-point exceptions are signalling: IEEE_INVALID_FLAG IEEE_DIVIDE_BY_ZERO\n",
      "Note: The following floating-point exceptions are signalling: IEEE_INVALID_FLAG IEEE_DIVIDE_BY_ZERO\n",
      "Note: The following floating-point exceptions are signalling: IEEE_INVALID_FLAG IEEE_DIVIDE_BY_ZERO IEEE_UNDERFLOW_FLAG IEEE_DENORMAL\n",
      "Note: The following floating-point exceptions are signalling: IEEE_INVALID_FLAG IEEE_DIVIDE_BY_ZERO\n",
      "Note: The following floating-point exceptions are signalling: IEEE_INVALID_FLAG IEEE_DIVIDE_BY_ZERO\n",
      "Note: The following floating-point exceptions are signalling: IEEE_INVALID_FLAG IEEE_DIVIDE_BY_ZERO\n",
      "Note: The following floating-point exceptions are signalling: IEEE_INVALID_FLAG IEEE_DIVIDE_BY_ZERO\n",
      "Note: The following floating-point exceptions are signalling: IEEE_INVALID_FLAG IEEE_DIVIDE_BY_ZERO IEEE_UNDERFLOW_FLAG IEEE_DENORMAL\n",
      "Note: The following floating-point exceptions are signalling: IEEE_INVALID_FLAG IEEE_DIVIDE_BY_ZERO IEEE_UNDERFLOW_FLAG IEEE_DENORMAL\n",
      "Note: The following floating-point exceptions are signalling: IEEE_INVALID_FLAG IEEE_DIVIDE_BY_ZERO\n",
      "Note: The following floating-point exceptions are signalling: IEEE_INVALID_FLAG IEEE_DIVIDE_BY_ZERO IEEE_UNDERFLOW_FLAG IEEE_DENORMAL\n",
      "Note: The following floating-point exceptions are signalling: IEEE_INVALID_FLAG IEEE_DIVIDE_BY_ZERO IEEE_UNDERFLOW_FLAG IEEE_DENORMAL\n",
      "Note: The following floating-point exceptions are signalling: IEEE_INVALID_FLAG IEEE_DIVIDE_BY_ZERO IEEE_UNDERFLOW_FLAG IEEE_DENORMAL\n",
      "Note: The following floating-point exceptions are signalling: IEEE_INVALID_FLAG IEEE_DIVIDE_BY_ZERO IEEE_UNDERFLOW_FLAG IEEE_DENORMAL\n",
      "Note: The following floating-point exceptions are signalling: IEEE_INVALID_FLAG IEEE_DIVIDE_BY_ZERO\n",
      "Note: The following floating-point exceptions are signalling: IEEE_INVALID_FLAG IEEE_DIVIDE_BY_ZERO IEEE_UNDERFLOW_FLAG IEEE_DENORMAL\n",
      "Note: The following floating-point exceptions are signalling: IEEE_INVALID_FLAG IEEE_DIVIDE_BY_ZERO\n",
      "Note: The following floating-point exceptions are signalling: IEEE_INVALID_FLAG IEEE_DIVIDE_BY_ZERO IEEE_UNDERFLOW_FLAG IEEE_DENORMAL\n",
      "Note: The following floating-point exceptions are signalling: IEEE_INVALID_FLAG IEEE_DIVIDE_BY_ZERO IEEE_UNDERFLOW_FLAG IEEE_DENORMAL\n",
      "Note: The following floating-point exceptions are signalling: IEEE_INVALID_FLAG IEEE_DIVIDE_BY_ZERO\n",
      "Note: The following floating-point exceptions are signalling: IEEE_INVALID_FLAG IEEE_DIVIDE_BY_ZERO IEEE_UNDERFLOW_FLAG IEEE_DENORMAL\n",
      "Note: The following floating-point exceptions are signalling: IEEE_INVALID_FLAG IEEE_DIVIDE_BY_ZERO IEEE_UNDERFLOW_FLAG IEEE_DENORMAL\n",
      "Note: The following floating-point exceptions are signalling: IEEE_INVALID_FLAG IEEE_DIVIDE_BY_ZERO\n",
      "Note: The following floating-point exceptions are signalling: IEEE_INVALID_FLAG IEEE_DIVIDE_BY_ZERO\n",
      "Note: The following floating-point exceptions are signalling: IEEE_INVALID_FLAG IEEE_DIVIDE_BY_ZERO IEEE_UNDERFLOW_FLAG IEEE_DENORMAL\n",
      "Note: The following floating-point exceptions are signalling: IEEE_INVALID_FLAG IEEE_DIVIDE_BY_ZERO IEEE_UNDERFLOW_FLAG IEEE_DENORMAL\n",
      "Note: The following floating-point exceptions are signalling: IEEE_INVALID_FLAG IEEE_DIVIDE_BY_ZERO IEEE_UNDERFLOW_FLAG IEEE_DENORMAL\n",
      "Note: The following floating-point exceptions are signalling: IEEE_INVALID_FLAG IEEE_DIVIDE_BY_ZERO IEEE_UNDERFLOW_FLAG IEEE_DENORMAL\n",
      "Note: The following floating-point exceptions are signalling: IEEE_INVALID_FLAG IEEE_DIVIDE_BY_ZERO\n",
      "Note: The following floating-point exceptions are signalling: IEEE_INVALID_FLAG IEEE_DIVIDE_BY_ZERO IEEE_UNDERFLOW_FLAG IEEE_DENORMAL\n",
      "Note: The following floating-point exceptions are signalling: IEEE_INVALID_FLAG IEEE_DIVIDE_BY_ZERO IEEE_UNDERFLOW_FLAG IEEE_DENORMAL\n",
      "Note: The following floating-point exceptions are signalling: IEEE_INVALID_FLAG IEEE_DIVIDE_BY_ZERO IEEE_UNDERFLOW_FLAG IEEE_DENORMAL\n",
      "Note: The following floating-point exceptions are signalling: IEEE_INVALID_FLAG IEEE_DIVIDE_BY_ZERO IEEE_UNDERFLOW_FLAG IEEE_DENORMAL\n",
      "Note: The following floating-point exceptions are signalling: IEEE_INVALID_FLAG IEEE_DIVIDE_BY_ZERO\n",
      "Note: The following floating-point exceptions are signalling: IEEE_INVALID_FLAG IEEE_DIVIDE_BY_ZERO\n",
      "Note: The following floating-point exceptions are signalling: IEEE_INVALID_FLAG IEEE_DIVIDE_BY_ZERO\n",
      "Note: The following floating-point exceptions are signalling: IEEE_INVALID_FLAG IEEE_DIVIDE_BY_ZERO\n",
      "Note: The following floating-point exceptions are signalling: IEEE_INVALID_FLAG IEEE_DIVIDE_BY_ZERO IEEE_UNDERFLOW_FLAG IEEE_DENORMAL\n",
      "Note: The following floating-point exceptions are signalling: IEEE_INVALID_FLAG IEEE_DIVIDE_BY_ZERO IEEE_UNDERFLOW_FLAG IEEE_DENORMAL\n",
      "Note: The following floating-point exceptions are signalling: IEEE_INVALID_FLAG IEEE_DIVIDE_BY_ZERO IEEE_UNDERFLOW_FLAG IEEE_DENORMAL\n",
      "Note: The following floating-point exceptions are signalling: IEEE_INVALID_FLAG IEEE_DIVIDE_BY_ZERO IEEE_UNDERFLOW_FLAG IEEE_DENORMAL\n",
      "Note: The following floating-point exceptions are signalling: IEEE_INVALID_FLAG IEEE_DIVIDE_BY_ZERO\n",
      "Note: The following floating-point exceptions are signalling: IEEE_INVALID_FLAG IEEE_DIVIDE_BY_ZERO IEEE_UNDERFLOW_FLAG IEEE_DENORMAL\n",
      "Note: The following floating-point exceptions are signalling: IEEE_INVALID_FLAG IEEE_DIVIDE_BY_ZERO IEEE_UNDERFLOW_FLAG IEEE_DENORMAL\n",
      "Note: The following floating-point exceptions are signalling: IEEE_INVALID_FLAG IEEE_DIVIDE_BY_ZERO\n",
      "Note: The following floating-point exceptions are signalling: IEEE_INVALID_FLAG IEEE_DIVIDE_BY_ZERO\n",
      "Note: The following floating-point exceptions are signalling: IEEE_INVALID_FLAG IEEE_DIVIDE_BY_ZERO\n",
      "Note: The following floating-point exceptions are signalling: IEEE_INVALID_FLAG IEEE_DIVIDE_BY_ZERO\n",
      "Note: The following floating-point exceptions are signalling: IEEE_INVALID_FLAG IEEE_DIVIDE_BY_ZERO\n",
      "Note: The following floating-point exceptions are signalling: IEEE_INVALID_FLAG IEEE_DIVIDE_BY_ZERO IEEE_UNDERFLOW_FLAG IEEE_DENORMAL\n",
      "Note: The following floating-point exceptions are signalling: IEEE_INVALID_FLAG IEEE_DIVIDE_BY_ZERO IEEE_UNDERFLOW_FLAG IEEE_DENORMAL\n",
      "Note: The following floating-point exceptions are signalling: IEEE_INVALID_FLAG IEEE_DIVIDE_BY_ZERO IEEE_UNDERFLOW_FLAG IEEE_DENORMAL\n",
      "Note: The following floating-point exceptions are signalling: IEEE_INVALID_FLAG IEEE_DIVIDE_BY_ZERO IEEE_UNDERFLOW_FLAG IEEE_DENORMAL\n",
      "Note: The following floating-point exceptions are signalling: IEEE_INVALID_FLAG IEEE_DIVIDE_BY_ZERO IEEE_UNDERFLOW_FLAG IEEE_DENORMAL\n",
      "Note: The following floating-point exceptions are signalling: IEEE_INVALID_FLAG IEEE_DIVIDE_BY_ZERO\n",
      "Note: The following floating-point exceptions are signalling: IEEE_INVALID_FLAG IEEE_DIVIDE_BY_ZERO\n",
      "Note: The following floating-point exceptions are signalling: IEEE_INVALID_FLAG IEEE_DIVIDE_BY_ZERO IEEE_UNDERFLOW_FLAG IEEE_DENORMAL\n",
      "Note: The following floating-point exceptions are signalling: IEEE_INVALID_FLAG IEEE_DIVIDE_BY_ZERO IEEE_UNDERFLOW_FLAG IEEE_DENORMAL\n",
      "Note: The following floating-point exceptions are signalling: IEEE_INVALID_FLAG IEEE_DIVIDE_BY_ZERO IEEE_UNDERFLOW_FLAG IEEE_DENORMAL\n"
     ]
    }
   ],
   "source": [
    "for lam in lambdas:\n",
    "    filename = str(round(lam,2))\n",
    "    ! echo $N $nit $lam $folder $filename | ./a.out >/dev/null\n"
   ]
  },
  {
   "cell_type": "code",
   "execution_count": 23,
   "id": "f240b150",
   "metadata": {},
   "outputs": [],
   "source": [
    "y = []\n",
    "for i in range(len(lambdas)):\n",
    "    filename = str(round(lambdas[i],2))+'.csv'\n",
    "    temp = np.genfromtxt('./data/'+folder+'/'+filename)[-1]\n",
    "    y.append(temp)"
   ]
  },
  {
   "cell_type": "code",
   "execution_count": 36,
   "id": "6ac59b96",
   "metadata": {},
   "outputs": [
    {
     "name": "stdout",
     "output_type": "stream",
     "text": [
      "0.0 -0.3750000000000006\n",
      "0.030303030303030304 -0.3751722947941183\n",
      "0.06060606060606061 -0.37569059650611925\n",
      "0.09090909090909091 -0.3765591229577947\n",
      "0.12121212121212122 -0.3777847873111591\n",
      "0.15151515151515152 -0.3793770143886052\n",
      "0.18181818181818182 -0.3813474672997801\n",
      "0.21212121212121213 -0.3837096718263861\n",
      "0.24242424242424243 -0.38647852791855325\n",
      "0.2727272727272727 -0.3896697038038841\n",
      "0.30303030303030304 -0.393298919130351\n",
      "0.33333333333333337 -0.3973811388848576\n",
      "0.36363636363636365 -0.4019297178154072\n",
      "0.3939393939393939 -inf\n",
      "0.42424242424242425 -0.4124663102120179\n",
      "0.4545454545454546 -0.4184658076973273\n",
      "0.48484848484848486 -0.424953601116955\n",
      "0.5151515151515151 -0.4319248294546283\n",
      "0.5454545454545454 -inf\n",
      "0.5757575757575758 -0.44727694235870347\n",
      "0.6060606060606061 -0.4556281383795081\n",
      "0.6363636363636364 -0.46440460148743046\n",
      "0.6666666666666667 -0.4735849957213954\n",
      "0.696969696969697 -0.48314667431929087\n",
      "0.7272727272727273 -0.49306634025542573\n",
      "0.7575757575757576 -inf\n",
      "0.7878787878787878 -0.5138865154915938\n",
      "0.8181818181818182 -0.5247417888608296\n",
      "0.8484848484848485 -0.5358651920558238\n",
      "0.8787878787878788 -inf\n",
      "0.9090909090909092 -0.5588373496446194\n",
      "0.9393939393939394 -0.5706497871161954\n",
      "0.9696969696969697 -0.5826577548311115\n",
      "1.0 -inf\n",
      "1.0303030303030303 -0.6072017195118279\n",
      "1.0606060606060606 -0.6197113867303355\n",
      "1.0909090909090908 -0.6323637790757691\n",
      "1.1212121212121213 -0.6451483470096299\n",
      "1.1515151515151516 -0.6580554457624513\n",
      "1.1818181818181819 -0.6710762591431555\n",
      "1.2121212121212122 -0.6842027271568466\n",
      "1.2424242424242424 -0.6974274782082753\n",
      "1.2727272727272727 -0.7107437662689379\n",
      "1.303030303030303 -0.7241454131070011\n",
      "1.3333333333333335 -inf\n",
      "1.3636363636363638 -0.7511825971625365\n",
      "1.393939393939394 -inf\n",
      "1.4242424242424243 -0.7784990710522128\n",
      "1.4545454545454546 -inf\n",
      "1.4848484848484849 -0.8060610506970981\n",
      "1.5151515151515151 -0.8199249643103907\n",
      "1.5454545454545454 -inf\n",
      "1.5757575757575757 -0.8478027413934935\n",
      "1.6060606060606062 -inf\n",
      "1.6363636363636365 -0.8758619387828978\n",
      "1.6666666666666667 -0.8899533718712539\n",
      "1.696969696969697 -inf\n",
      "1.7272727272727273 -0.9182490135673514\n",
      "1.7575757575757576 -inf\n",
      "1.7878787878787878 -inf\n",
      "1.8181818181818183 -0.960946058924763\n",
      "1.8484848484848486 -0.9752393318521093\n",
      "1.878787878787879 -0.9895605908613136\n",
      "1.9090909090909092 -inf\n",
      "1.9393939393939394 -inf\n",
      "1.9696969696969697 -1.0326792574231105\n",
      "2.0 -1.0470998296062952\n",
      "2.0303030303030303 -1.06154244758423\n",
      "2.0606060606060606 -1.0760061293729255\n",
      "2.090909090909091 -1.0904899502423342\n",
      "2.121212121212121 -1.1049930386344664\n",
      "2.1515151515151514 -1.1195145724216544\n",
      "2.1818181818181817 -1.1340537754729632\n",
      "2.2121212121212124 -inf\n",
      "2.2424242424242427 -inf\n",
      "2.272727272727273 -inf\n",
      "2.303030303030303 -1.192373197867943\n",
      "2.3333333333333335 -1.2069905079385477\n",
      "2.3636363636363638 -1.2216216363029553\n",
      "2.393939393939394 -1.236266053195388\n",
      "2.4242424242424243 -1.250923255568184\n",
      "2.4545454545454546 -1.265592765432938\n",
      "2.484848484848485 -1.2802741283230874\n",
      "2.515151515151515 -1.2949669118678486\n",
      "2.5454545454545454 -1.3096707044681295\n",
      "2.5757575757575757 -1.3243851140662424\n",
      "2.606060606060606 -inf\n",
      "2.6363636363636362 -1.3538443069459418\n",
      "2.666666666666667 -1.368588393910713\n",
      "2.6969696969696972 -inf\n",
      "2.7272727272727275 -1.3981039251604048\n",
      "2.757575757575758 -inf\n",
      "2.787878787878788 -1.4276539340071779\n",
      "2.8181818181818183 -1.4424411667421875\n",
      "2.8484848484848486 -1.4572362019921437\n",
      "2.878787878787879 -1.4720387914083302\n",
      "2.909090909090909 -inf\n",
      "2.9393939393939394 -1.5016656909780135\n",
      "2.9696969696969697 -1.5164895544742287\n",
      "3.0 -inf\n"
     ]
    }
   ],
   "source": [
    "for i in range(len(lambdas)):\n",
    "    print(lambdas[i], y[i])"
   ]
  },
  {
   "cell_type": "code",
   "execution_count": 25,
   "id": "5515d1a6-763a-4b11-b25e-0d754115b9a1",
   "metadata": {},
   "outputs": [
    {
     "data": {
      "text/plain": [
       "[<matplotlib.lines.Line2D at 0x7fae087eda30>]"
      ]
     },
     "execution_count": 25,
     "metadata": {},
     "output_type": "execute_result"
    },
    {
     "data": {
      "image/png": "[encoded data removed]",
      "text/plain": [
       "<Figure size 432x288 with 1 Axes>"
      ]
     },
     "metadata": {
      "needs_background": "light"
     },
     "output_type": "display_data"
    }
   ],
   "source": [
    "plt.plot(lambdas,y)"
   ]
  },
  {
   "cell_type": "code",
   "execution_count": null,
   "id": "c1bb85dc-92b3-4fa0-b082-3730c6b3d0f6",
   "metadata": {},
   "outputs": [],
   "source": []
  }
 ],
 "metadata": {
  "kernelspec": {
   "display_name": "Python 3",
   "language": "python",
   "name": "python3"
  },
  "language_info": {
   "codemirror_mode": {
    "name": "ipython",
    "version": 3
   },
   "file_extension": ".py",
   "mimetype": "text/x-python",
   "name": "python",
   "nbconvert_exporter": "python",
   "pygments_lexer": "ipython3",
   "version": "3.8.8"
  }
 },
 "nbformat": 4,
 "nbformat_minor": 5
}
