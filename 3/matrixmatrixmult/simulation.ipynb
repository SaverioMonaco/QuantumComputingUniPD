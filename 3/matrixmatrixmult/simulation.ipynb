{
 "cells": [
  {
   "cell_type": "code",
   "execution_count": 1,
   "id": "6b02524e",
   "metadata": {},
   "outputs": [],
   "source": [
    "import matplotlib.pyplot as plt\n",
    "import numpy as np\n",
    "import numpy.polynomial.polynomial as poly\n"
   ]
  },
  {
   "cell_type": "code",
   "execution_count": 2,
   "id": "84c86d3c-7d03-4945-ad13-d25b37382df3",
   "metadata": {},
   "outputs": [],
   "source": [
    "NMIN  = 10\n",
    "NMAX  = 1000\n",
    "NSTEP = 10"
   ]
  },
  {
   "cell_type": "code",
   "execution_count": 3,
   "id": "09feb5c1-9112-4733-9353-340197fdf06d",
   "metadata": {},
   "outputs": [],
   "source": [
    "# MODE = matmul, loop1, loop2\n",
    "# N    = any integer greater than 1\n",
    "def stresstest(Nmin,Nmax,Ndelta):\n",
    "    methods = ['loop1', 'loop2', 'matmul'] \n",
    "    # For each method\n",
    "    for method in methods:\n",
    "        # For various matrix dimensions\n",
    "        for N in range(Nmin,Nmax,Ndelta):\n",
    "            # Run the program for the given method and dimension\n",
    "            #print(N)\n",
    "            !echo $method $N | ./mmult\n",
    "            #os.popen(\"echo \"+method+\" \"+str(N)+ \" | ./mmult\")\n",
    "            "
   ]
  },
  {
   "cell_type": "code",
   "execution_count": 4,
   "id": "f4fc8faf",
   "metadata": {},
   "outputs": [],
   "source": [
    "# Compile the f90 file\n",
    "!gfortran ./matrixmult.f90 -o mmult\n"
   ]
  },
  {
   "cell_type": "code",
   "execution_count": 5,
   "id": "31c8f9b4-2dff-4f4e-91ba-b3d3ee7033ce",
   "metadata": {},
   "outputs": [],
   "source": [
    "# Erase all the records\n",
    "open('loop.csv', 'w').close()\n",
    "open('loop2.csv', 'w').close()\n",
    "open('internal.csv', 'w').close()\n"
   ]
  },
  {
   "cell_type": "code",
   "execution_count": null,
   "id": "6fe66ebf-cf5b-4f11-8463-43b88ed0a848",
   "metadata": {},
   "outputs": [],
   "source": [
    "stresstest(NMIN,NMAX,NSTEP)\n"
   ]
  },
  {
   "cell_type": "code",
   "execution_count": null,
   "id": "11d15886-1480-460d-ac8a-5c6cc51c40a6",
   "metadata": {},
   "outputs": [],
   "source": [
    "!head -9 loop.csv\n"
   ]
  },
  {
   "cell_type": "code",
   "execution_count": null,
   "id": "369f897f-c6bc-48a9-827c-4bd1badc53f0",
   "metadata": {},
   "outputs": [],
   "source": [
    "!head -9 loop2.csv\n"
   ]
  },
  {
   "cell_type": "code",
   "execution_count": null,
   "id": "e980299d-8141-4593-b2c8-b670a004e77d",
   "metadata": {},
   "outputs": [],
   "source": [
    "!head -9 internal.csv\n"
   ]
  },
  {
   "cell_type": "code",
   "execution_count": null,
   "id": "53e79ccb-df4a-4def-950f-5a922da8fd26",
   "metadata": {},
   "outputs": [],
   "source": [
    "# Load the data points from files\n",
    "loop     = np.genfromtxt('loop.csv', delimiter=',')\n",
    "loop2     = np.genfromtxt('loop2.csv', delimiter=',')\n",
    "internal = np.genfromtxt('internal.csv', delimiter=',')\n"
   ]
  },
  {
   "cell_type": "code",
   "execution_count": null,
   "id": "7afd274f-a2ce-4088-8615-ff7c27578b5a",
   "metadata": {},
   "outputs": [],
   "source": [
    "# Generic dense x vector for plotting lines\n",
    "x = np.arange(loop[0,1],loop[-1,1],1)\n"
   ]
  },
  {
   "cell_type": "code",
   "execution_count": null,
   "id": "6974d0d6-333a-48df-a0b0-e82b2be2d96d",
   "metadata": {},
   "outputs": [],
   "source": [
    "###########################################\n",
    "#        LOOP MATRIX MULTIPLICATION       #\n",
    "###########################################\n",
    "plt.figure()\n",
    "# Plot the scatter of timings\n",
    "plt.plot(loop[:,1],loop[:,0], 'o', ms=3, label='Data points')\n",
    "\n",
    "# Fit a polynomial\n",
    "coefs = poly.polyfit(loop[:,1],loop[:,0], 3)\n",
    "fit_loop = poly.polyval(x, coefs)\n",
    "\n",
    "# This is for printing the equation\n",
    "eqstr = \"f(x) = \"\n",
    "for i in range(len(coefs)):\n",
    "    if i == (len(coefs) - 1):\n",
    "        eqstr += str(\"{:.2e}\".format(coefs[i]))\n",
    "    else:\n",
    "        eqstr += \"+\"+str(\"{:.2e}\".format(coefs[i]))+\"*x^\"+str(len(coefs)-1-i)\n",
    "    if i == 1:\n",
    "        eqstr +=\"+\\n          \"\n",
    "plt.text(0, 4, eqstr, fontdict = {'fontsize' : 12})\n",
    "\n",
    "plt.plot(x,fit_loop,label='Fit')\n",
    "plt.title(\"Time Scaling (Loop)\",fontsize=16)\n",
    "plt.legend(prop={'size': 12})\n",
    "plt.ylabel('t[s]     ').set_rotation(0)\n",
    "plt.xlabel('N')\n",
    "plt.savefig('imgs/loop.svg', format='svg')\n"
   ]
  },
  {
   "cell_type": "code",
   "execution_count": null,
   "id": "a1624196-7ac6-4d66-9135-b3e60b2bf0a2",
   "metadata": {},
   "outputs": [],
   "source": [
    "###########################################\n",
    "#        LOOP2 MATRIX MULTIPLICATION      #\n",
    "###########################################\n",
    "plt.figure()\n",
    "# Plot the scatter of timings\n",
    "plt.plot(loop2[:,1],loop2[:,0], 'o', ms=3, label='Data points')\n",
    "\n",
    "# Fit a polynomial\n",
    "coefs2 = poly.polyfit(loop2[:,1],loop2[:,0], 3)\n",
    "fit_loop2 = poly.polyval(x, coefs2)\n",
    "\n",
    "# This is for printing the equation\n",
    "eqstr = \"f(x) = \"\n",
    "for i in range(len(coefs)):\n",
    "    if i == (len(coefs) - 1):\n",
    "        eqstr += str(\"{:.2e}\".format(coefs2[i]))\n",
    "    else:\n",
    "        eqstr += \"+\"+str(\"{:.2e}\".format(coefs2[i]))+\"*x^\"+str(len(coefs2)-1-i)\n",
    "    if i == 1:\n",
    "        eqstr +=\"+\\n          \"\n",
    "plt.text(0, 4, eqstr, fontdict = {'fontsize' : 12})\n",
    "\n",
    "plt.plot(x,fit_loop2,label='Fit')\n",
    "plt.title(\"Time Scaling (Loop2)\",fontsize=16)\n",
    "plt.legend(prop={'size': 12})\n",
    "plt.ylabel('t[s]     ').set_rotation(0)\n",
    "plt.xlabel('N')\n",
    "plt.savefig('imgs/loop2.svg', format='svg')"
   ]
  },
  {
   "cell_type": "code",
   "execution_count": null,
   "id": "71733f07-76b1-429c-9e7e-eec759e09979",
   "metadata": {},
   "outputs": [],
   "source": [
    "###########################################\n",
    "#     INTERNAL MATRIX MULTIPLICATION      #\n",
    "###########################################\n",
    "plt.figure()\n",
    "# Plot the scatter of timings\n",
    "plt.plot(internal[:,1],internal[:,0], 'o', ms=3, label='Data points')\n",
    "\n",
    "# Fit a polynomial\n",
    "coefs = poly.polyfit(internal[:,1],internal[:,0], 3)\n",
    "fit_int = poly.polyval(x, coefs)\n",
    "\n",
    "# This is for printing the equation\n",
    "eqstr = \"f(x) = \"\n",
    "for i in range(len(coefs)):\n",
    "    if i == (len(coefs) - 1):\n",
    "        eqstr += str(\"{:.2e}\".format(coefs[i]))\n",
    "    else:\n",
    "        eqstr += \"+\"+str(\"{:.2e}\".format(coefs[i]))+\"*x^\"+str(len(coefs)-1-i)\n",
    "    if i == 1:\n",
    "        eqstr +=\"+\\n          \"\n",
    "plt.text(0, 0.06, eqstr, fontdict = {'fontsize' : 12})\n",
    "\n",
    "plt.plot(x,fit_int, label='Fit',color='red')\n",
    "plt.title(\"Time Scaling (Internal)\",fontsize=16)\n",
    "plt.legend(prop={'size': 12})\n",
    "plt.ylabel('t[s]     ').set_rotation(0)\n",
    "plt.xlabel('N')\n",
    "plt.savefig('imgs/internal.svg', format='svg')\n"
   ]
  },
  {
   "cell_type": "code",
   "execution_count": null,
   "id": "2268e565-1985-4f02-b563-7f4c855e23af",
   "metadata": {},
   "outputs": [],
   "source": [
    "###################################################\n",
    "#               LOOPS SIDE BY SIDE                #\n",
    "###################################################\n",
    "\n",
    "plt.subplots(nrows=1, ncols=2, figsize=(15, 3))\n",
    "\n",
    "plt.subplot(1, 2, 1)\n",
    "# Plot the histogram of normalized spacing for random hermitian matrices\n",
    "plt.plot(loop[:,1],loop[:,0], 'o', ms=3, label='Data points')\n",
    "plt.plot(x,fit_loop,label='Fit')\n",
    "plt.title(\"Time Scaling (Loop)\",fontsize=16)\n",
    "plt.legend(prop={'size': 12})\n",
    "plt.ylabel('t[s]     ').set_rotation(0)\n",
    "plt.xlabel('N')\n",
    "plt.ylim(0,8)\n",
    "\n",
    "plt.subplot(1, 2, 2)\n",
    "# Plot the histogram of normalized spacing for random diagonal matrices\n",
    "plt.plot(loop2[:,1],loop2[:,0], 'o', ms=3, label='Data points')\n",
    "plt.plot(x,fit_loop2,label='Fit',color='magenta')\n",
    "plt.title(\"Time Scaling (Loop2)\",fontsize=16)\n",
    "plt.legend(prop={'size': 12})\n",
    "plt.ylabel('t[s]     ').set_rotation(0)\n",
    "plt.xlabel('N')\n",
    "plt.ylim(0,8)\n",
    "\n",
    "plt.savefig('imgs/loopssidebyside.svg', format='svg')\n",
    "\n",
    "plt.show()"
   ]
  },
  {
   "cell_type": "code",
   "execution_count": null,
   "id": "9ad6d947-dea5-49fd-870f-7b3ade1018f1",
   "metadata": {},
   "outputs": [],
   "source": [
    "###########################################\n",
    "#                 COMPARE                 #\n",
    "###########################################\n",
    "#            Internal vs Loop             #\n",
    "###########################################\n",
    "plt.figure()\n",
    "plt.plot(x,fit_int,label='Internal multiplication',color='red')\n",
    "plt.plot(x,fit_loop,label='Loop multiplication',color='orange')\n",
    "plt.legend(prop={'size': 12})\n",
    "plt.title(\"Time Scaling\",fontsize=16)\n",
    "plt.ylabel('t[s]     ').set_rotation(0)\n",
    "plt.xlabel('N')\n",
    "plt.savefig('imgs/compare.svg', format='svg')\n"
   ]
  },
  {
   "cell_type": "code",
   "execution_count": null,
   "id": "83a2c0ae-bc16-4a5c-a4e1-0a049a59d64a",
   "metadata": {},
   "outputs": [],
   "source": [
    "###########################################\n",
    "#                 COMPARE                 #\n",
    "###########################################\n",
    "#            Loop 1 vs Loop 2             #\n",
    "###########################################\n",
    "plt.figure()\n",
    "plt.plot(x,fit_loop,label='Loop1',color='orange')\n",
    "plt.plot(x,fit_loop2,label='Loop2',color='magenta')\n",
    "plt.legend(prop={'size': 12})\n",
    "plt.title(\"Time Scaling\",fontsize=16)\n",
    "plt.ylabel('t[s]     ').set_rotation(0)\n",
    "plt.xlabel('N')\n",
    "plt.savefig('imgs/compareloops.svg', format='svg')"
   ]
  }
 ],
 "metadata": {
  "kernelspec": {
   "display_name": "Python 3",
   "language": "python",
   "name": "python3"
  },
  "language_info": {
   "codemirror_mode": {
    "name": "ipython",
    "version": 3
   },
   "file_extension": ".py",
   "mimetype": "text/x-python",
   "name": "python",
   "nbconvert_exporter": "python",
   "pygments_lexer": "ipython3",
   "version": "3.8.8"
  }
 },
 "nbformat": 4,
 "nbformat_minor": 5
}
